{
 "cells": [
  {
   "cell_type": "markdown",
   "metadata": {},
   "source": [
    "## Import Libraries"
   ]
  },
  {
   "cell_type": "code",
   "execution_count": null,
   "metadata": {
    "execution": {
     "iopub.execute_input": "2025-04-04T19:03:30.986305Z",
     "iopub.status.busy": "2025-04-04T19:03:30.986037Z",
     "iopub.status.idle": "2025-04-04T19:03:35.712032Z",
     "shell.execute_reply": "2025-04-04T19:03:35.711351Z",
     "shell.execute_reply.started": "2025-04-04T19:03:30.986277Z"
    },
    "trusted": true
   },
   "outputs": [],
   "source": [
    "import os\n",
    "import pandas as pd\n",
    "import numpy as np\n",
    "import librosa\n",
    "import torch\n",
    "import torch.nn as nn\n",
    "import torch.optim as optim\n",
    "from torch.utils.data import Dataset, DataLoader\n",
    "from sklearn.model_selection import train_test_split\n",
    "from sklearn.metrics import mean_squared_error, mean_absolute_error\n",
    "import matplotlib.pyplot as plt\n",
    "from tqdm import tqdm\n",
    "import warnings\n",
    "warnings.filterwarnings('ignore')"
   ]
  },
  {
   "cell_type": "code",
   "execution_count": null,
   "metadata": {
    "execution": {
     "iopub.execute_input": "2025-04-04T19:03:55.252163Z",
     "iopub.status.busy": "2025-04-04T19:03:55.251875Z",
     "iopub.status.idle": "2025-04-04T19:03:55.338550Z",
     "shell.execute_reply": "2025-04-04T19:03:55.337853Z",
     "shell.execute_reply.started": "2025-04-04T19:03:55.252140Z"
    },
    "trusted": true
   },
   "outputs": [
    {
     "name": "stdout",
     "output_type": "stream",
     "text": [
      "Using device: cuda\n"
     ]
    }
   ],
   "source": [
    "# Set random seeds for reproducibility\n",
    "np.random.seed(42)\n",
    "torch.manual_seed(42)\n",
    "if torch.cuda.is_available():\n",
    "    torch.cuda.manual_seed_all(42)\n",
    "\n",
    "# Check if GPU is available\n",
    "device = torch.device(\"cuda\" if torch.cuda.is_available() else \"cpu\")\n",
    "print(f\"Using device: {device}\")"
   ]
  },
  {
   "cell_type": "markdown",
   "metadata": {},
   "source": [
    "## Preprocessing"
   ]
  },
  {
   "cell_type": "code",
   "execution_count": 3,
   "metadata": {
    "execution": {
     "iopub.execute_input": "2025-04-04T19:04:01.508684Z",
     "iopub.status.busy": "2025-04-04T19:04:01.508323Z",
     "iopub.status.idle": "2025-04-04T19:04:01.513268Z",
     "shell.execute_reply": "2025-04-04T19:04:01.512317Z",
     "shell.execute_reply.started": "2025-04-04T19:04:01.508657Z"
    },
    "trusted": true
   },
   "outputs": [],
   "source": [
    "# Define constants\n",
    "SAMPLE_RATE = 16000  # Common sample rate for speech processing\n",
    "MAX_AUDIO_LENGTH = 60  # Maximum audio length in seconds\n",
    "FEATURE_DIM = 40  # MFCC feature dimension\n",
    "DATA_DIR = \"/kaggle/input/shl-intern-hiring-assessment/dataset\"  # Data directory path\n",
    "TRAIN_CSV = os.path.join(DATA_DIR, \"train.csv\")\n",
    "TEST_CSV = os.path.join(DATA_DIR, \"test.csv\")\n",
    "TRAIN_AUDIO_DIR = \"/kaggle/input/shl-intern-hiring-assessment/dataset/audios_train\"\n",
    "TEST_AUDIO_DIR = \"/kaggle/input/shl-intern-hiring-assessment/dataset/audios_test\"\n",
    "BATCH_SIZE = 16\n",
    "EPOCHS = 30\n",
    "LEARNING_RATE = 0.001"
   ]
  },
  {
   "cell_type": "code",
   "execution_count": 4,
   "metadata": {
    "execution": {
     "iopub.execute_input": "2025-04-04T19:04:07.495123Z",
     "iopub.status.busy": "2025-04-04T19:04:07.494817Z",
     "iopub.status.idle": "2025-04-04T19:04:07.499134Z",
     "shell.execute_reply": "2025-04-04T19:04:07.498256Z",
     "shell.execute_reply.started": "2025-04-04T19:04:07.495098Z"
    },
    "trusted": true
   },
   "outputs": [],
   "source": [
    "# Load data\n",
    "def load_data(csv_path):\n",
    "    \"\"\"\n",
    "    Load the data from CSV file\n",
    "    \n",
    "    Args:\n",
    "        csv_path: Path to the CSV file\n",
    "        \n",
    "    Returns:\n",
    "        DataFrame with audio filenames and labels\n",
    "    \"\"\"\n",
    "    df = pd.read_csv(csv_path)\n",
    "    print(f\"Loaded {len(df)} samples from {csv_path}\")\n",
    "    return df"
   ]
  },
  {
   "cell_type": "code",
   "execution_count": 5,
   "metadata": {
    "execution": {
     "iopub.execute_input": "2025-04-04T19:04:10.250346Z",
     "iopub.status.busy": "2025-04-04T19:04:10.250029Z",
     "iopub.status.idle": "2025-04-04T19:04:10.275318Z",
     "shell.execute_reply": "2025-04-04T19:04:10.274520Z",
     "shell.execute_reply.started": "2025-04-04T19:04:10.250319Z"
    },
    "trusted": true
   },
   "outputs": [
    {
     "name": "stdout",
     "output_type": "stream",
     "text": [
      "Loaded 444 samples from /kaggle/input/shl-intern-hiring-assessment/dataset/train.csv\n",
      "Loaded 195 samples from /kaggle/input/shl-intern-hiring-assessment/dataset/test.csv\n"
     ]
    }
   ],
   "source": [
    "train_df = load_data(TRAIN_CSV)\n",
    "test_df = load_data(TEST_CSV)"
   ]
  },
  {
   "cell_type": "markdown",
   "metadata": {},
   "source": [
    "## EDA"
   ]
  },
  {
   "cell_type": "code",
   "execution_count": 6,
   "metadata": {
    "execution": {
     "iopub.execute_input": "2025-04-04T19:04:19.274461Z",
     "iopub.status.busy": "2025-04-04T19:04:19.274081Z",
     "iopub.status.idle": "2025-04-04T19:04:19.296396Z",
     "shell.execute_reply": "2025-04-04T19:04:19.295517Z",
     "shell.execute_reply.started": "2025-04-04T19:04:19.274426Z"
    },
    "trusted": true
   },
   "outputs": [
    {
     "name": "stdout",
     "output_type": "stream",
     "text": [
      "\n",
      "Training data sample:\n",
      "         filename  label\n",
      "0  audio_1261.wav    1.0\n",
      "1   audio_942.wav    1.5\n",
      "2  audio_1110.wav    1.5\n",
      "3  audio_1024.wav    1.5\n",
      "4   audio_538.wav    2.0\n",
      "\n",
      "Statistical summary of training labels:\n",
      "count    444.000000\n",
      "mean       3.617117\n",
      "std        1.114151\n",
      "min        1.000000\n",
      "25%        2.500000\n",
      "50%        3.500000\n",
      "75%        4.500000\n",
      "max        5.000000\n",
      "Name: label, dtype: float64\n"
     ]
    }
   ],
   "source": [
    "# Explore the data\n",
    "print(\"\\nTraining data sample:\")\n",
    "print(train_df.head())\n",
    "\n",
    "print(\"\\nStatistical summary of training labels:\")\n",
    "print(train_df['label'].describe())"
   ]
  },
  {
   "cell_type": "code",
   "execution_count": 9,
   "metadata": {
    "execution": {
     "iopub.execute_input": "2025-04-04T19:05:57.551062Z",
     "iopub.status.busy": "2025-04-04T19:05:57.550758Z",
     "iopub.status.idle": "2025-04-04T19:05:57.895846Z",
     "shell.execute_reply": "2025-04-04T19:05:57.894982Z",
     "shell.execute_reply.started": "2025-04-04T19:05:57.551039Z"
    },
    "trusted": true
   },
   "outputs": [
    {
     "data": {
      "image/png": "[encoded data removed]",
      "text/plain": [
       "<Figure size 1000x600 with 1 Axes>"
      ]
     },
     "metadata": {},
     "output_type": "display_data"
    }
   ],
   "source": [
    "# Visualize the distribution of grammar scores\n",
    "plt.figure(figsize=(10, 6))\n",
    "train_df['label'].hist(bins=10)\n",
    "plt.title('Distribution of Grammar Scores')\n",
    "plt.xlabel('Grammar Score')\n",
    "plt.ylabel('Frequency')\n",
    "plt.tight_layout()\n",
    "plt.savefig('grammar_score_distribution.png')\n",
    "plt.show()"
   ]
  },
  {
   "cell_type": "markdown",
   "metadata": {},
   "source": [
    "### Audio Preprocessing\n",
    "- Loaded audio files using librosa\n",
    "- Resampled to 16kHz for standardization\n",
    "- Applied silence trimming to focus on speech content\n",
    "- Padded or truncated samples to ensure uniform length (60 seconds)\n",
    "\n",
    "### Feature Extraction\n",
    "- Extracted Mel-Frequency Cepstral Coefficients (MFCCs) with 40 coefficients\n",
    "- MFCCs capture the spectral characteristics of speech relevant to pronunciation and grammar\n",
    "- Applied normalization to stabilize learning"
   ]
  },
  {
   "cell_type": "code",
   "execution_count": 10,
   "metadata": {
    "execution": {
     "iopub.execute_input": "2025-04-04T19:07:02.408151Z",
     "iopub.status.busy": "2025-04-04T19:07:02.407849Z",
     "iopub.status.idle": "2025-04-04T19:07:02.413565Z",
     "shell.execute_reply": "2025-04-04T19:07:02.412870Z",
     "shell.execute_reply.started": "2025-04-04T19:07:02.408130Z"
    },
    "trusted": true
   },
   "outputs": [],
   "source": [
    "# Audio feature extraction\n",
    "def extract_features(audio_path, sr=SAMPLE_RATE, n_mfcc=FEATURE_DIM):\n",
    "    \"\"\"\n",
    "    Extract MFCC features from an audio file\n",
    "    \n",
    "    Args:\n",
    "        audio_path: Path to the audio file\n",
    "        sr: Sample rate\n",
    "        n_mfcc: Number of MFCC coefficients\n",
    "        \n",
    "    Returns:\n",
    "        MFCC features\n",
    "    \"\"\"\n",
    "    try:\n",
    "        # Load audio file\n",
    "        y, _ = librosa.load(audio_path, sr=sr)\n",
    "        \n",
    "        # Trim silence\n",
    "        y, _ = librosa.effects.trim(y, top_db=20)\n",
    "        \n",
    "        # Pad or truncate to fixed length\n",
    "        if len(y) < sr * MAX_AUDIO_LENGTH:\n",
    "            y = np.pad(y, (0, sr * MAX_AUDIO_LENGTH - len(y)), 'constant')\n",
    "        else:\n",
    "            y = y[:sr * MAX_AUDIO_LENGTH]\n",
    "        \n",
    "        # Extract MFCCs\n",
    "        mfccs = librosa.feature.mfcc(y=y, sr=sr, n_mfcc=n_mfcc)\n",
    "        \n",
    "        # Normalize features\n",
    "        mfccs = (mfccs - np.mean(mfccs)) / np.std(mfccs)\n",
    "        \n",
    "        return mfccs\n",
    "    except Exception as e:\n",
    "        print(f\"Error extracting features from {audio_path}: {e}\")\n",
    "        return None"
   ]
  },
  {
   "cell_type": "code",
   "execution_count": 39,
   "metadata": {
    "execution": {
     "iopub.execute_input": "2025-04-04T20:15:22.154495Z",
     "iopub.status.busy": "2025-04-04T20:15:22.154119Z",
     "iopub.status.idle": "2025-04-04T20:15:22.163580Z",
     "shell.execute_reply": "2025-04-04T20:15:22.162614Z",
     "shell.execute_reply.started": "2025-04-04T20:15:22.154445Z"
    },
    "trusted": true
   },
   "outputs": [],
   "source": [
    "class TestAudioDataset(Dataset):\n",
    "    \"\"\"\n",
    "    Dataset class specifically for test data (no labels)\n",
    "    \"\"\"\n",
    "    def __init__(self, df, audio_dir, transform=None):\n",
    "        self.df = df\n",
    "        self.audio_dir = audio_dir\n",
    "        self.transform = transform\n",
    "        \n",
    "    def __len__(self):\n",
    "        return len(self.df)\n",
    "    \n",
    "    def __getitem__(self, idx):\n",
    "        audio_name = self.df.iloc[idx]['filename']\n",
    "        audio_path = os.path.join(self.audio_dir, audio_name)\n",
    "        \n",
    "        # Extract features\n",
    "        features = extract_features(audio_path)\n",
    "        \n",
    "        if features is None:\n",
    "            # Return zeros if feature extraction failed\n",
    "            features = np.zeros((FEATURE_DIM, int(MAX_AUDIO_LENGTH * SAMPLE_RATE / 512) + 1))\n",
    "        \n",
    "        if self.transform:\n",
    "            features = self.transform(features)\n",
    "        \n",
    "        # Convert to tensor and return only features\n",
    "        features = torch.FloatTensor(features)\n",
    "        return features\n",
    "\n",
    "# Keep the original class for training/validation\n",
    "class AudioDataset(Dataset):\n",
    "    \"\"\"\n",
    "    Custom dataset class for loading audio data and labels\n",
    "    \"\"\"\n",
    "    def __init__(self, df, audio_dir, transform=None):\n",
    "        self.df = df\n",
    "        self.audio_dir = audio_dir\n",
    "        self.transform = transform\n",
    "        \n",
    "    def __len__(self):\n",
    "        return len(self.df)\n",
    "    \n",
    "    def __getitem__(self, idx):\n",
    "        audio_name = self.df.iloc[idx]['filename']\n",
    "        audio_path = os.path.join(self.audio_dir, audio_name)\n",
    "        label = self.df.iloc[idx]['label']\n",
    "        \n",
    "        # Extract features\n",
    "        features = extract_features(audio_path)\n",
    "        \n",
    "        if features is None:\n",
    "            # Return zeros if feature extraction failed\n",
    "            features = np.zeros((FEATURE_DIM, int(MAX_AUDIO_LENGTH * SAMPLE_RATE / 512) + 1))\n",
    "        \n",
    "        if self.transform:\n",
    "            features = self.transform(features)\n",
    "        \n",
    "        # Convert to tensor\n",
    "        features = torch.FloatTensor(features)\n",
    "        label = torch.FloatTensor([label])\n",
    "        \n",
    "        return features, label"
   ]
  },
  {
   "cell_type": "code",
   "execution_count": 35,
   "metadata": {
    "execution": {
     "iopub.execute_input": "2025-04-04T20:11:29.046255Z",
     "iopub.status.busy": "2025-04-04T20:11:29.045938Z",
     "iopub.status.idle": "2025-04-04T20:11:29.054948Z",
     "shell.execute_reply": "2025-04-04T20:11:29.054126Z",
     "shell.execute_reply.started": "2025-04-04T20:11:29.046217Z"
    },
    "trusted": true
   },
   "outputs": [
    {
     "name": "stdout",
     "output_type": "stream",
     "text": [
      "\n",
      "Split training data into 355 training and 89 validation samples\n"
     ]
    }
   ],
   "source": [
    "# Splitting training data into train and validation sets\n",
    "train_data, val_data = train_test_split(train_df, test_size=0.2, random_state=42)\n",
    "\n",
    "# Reset indices\n",
    "train_data = train_data.reset_index(drop=True)\n",
    "val_data = val_data.reset_index(drop=True)\n",
    "\n",
    "print(f\"\\nSplit training data into {len(train_data)} training and {len(val_data)} validation samples\")"
   ]
  },
  {
   "cell_type": "code",
   "execution_count": 40,
   "metadata": {
    "execution": {
     "iopub.execute_input": "2025-04-04T20:16:00.571562Z",
     "iopub.status.busy": "2025-04-04T20:16:00.571246Z",
     "iopub.status.idle": "2025-04-04T20:16:00.576654Z",
     "shell.execute_reply": "2025-04-04T20:16:00.575676Z",
     "shell.execute_reply.started": "2025-04-04T20:16:00.571534Z"
    },
    "trusted": true
   },
   "outputs": [],
   "source": [
    "train_dataset = AudioDataset(train_data, TRAIN_AUDIO_DIR)\n",
    "val_dataset = AudioDataset(val_data, TRAIN_AUDIO_DIR)\n",
    "test_dataset = TestAudioDataset(test_df, TEST_AUDIO_DIR)\n",
    "\n",
    "train_loader = DataLoader(train_dataset, batch_size=BATCH_SIZE, shuffle=True, num_workers=4)\n",
    "val_loader = DataLoader(val_dataset, batch_size=BATCH_SIZE, shuffle=False, num_workers=4)\n",
    "test_loader = DataLoader(test_dataset, batch_size=BATCH_SIZE, shuffle=False, num_workers=4)"
   ]
  },
  {
   "cell_type": "markdown",
   "metadata": {},
   "source": [
    "## Model Architecture\n",
    "Implemented a hybrid CNN-LSTM architecture:\n",
    "1. *CNN Layers*: Extract local acoustic features from the MFCC representations\n",
    "   - Two convolutional layers with batch normalization\n",
    "   - Max pooling for dimensionality reduction\n",
    "   - Dropout for regularization\n",
    "\n",
    "2. *Bidirectional LSTM*: Model temporal dependencies in speech\n",
    "   - Captures long-range grammatical structures\n",
    "   - Bidirectional to consider both past and future context\n",
    "\n",
    "3. *Attention Mechanism*: Focus on the most relevant parts of speech\n",
    "   - Helps the model attend to grammatical errors or well-formed structures\n",
    "   - Provides interpretability by highlighting important time segments\n",
    "\n",
    "4. *Fully Connected Layers*: Map learned representations to grammatical scores\n",
    "   - Final sigmoid activation scaled to the 0-5 range"
   ]
  },
  {
   "cell_type": "code",
   "execution_count": 24,
   "metadata": {
    "execution": {
     "iopub.execute_input": "2025-04-04T19:17:47.752178Z",
     "iopub.status.busy": "2025-04-04T19:17:47.751860Z",
     "iopub.status.idle": "2025-04-04T19:17:47.761194Z",
     "shell.execute_reply": "2025-04-04T19:17:47.760246Z",
     "shell.execute_reply.started": "2025-04-04T19:17:47.752151Z"
    },
    "trusted": true
   },
   "outputs": [],
   "source": [
    "# Define the model architecture\n",
    "class GrammarScoringModel(nn.Module):\n",
    "    \"\"\"\n",
    "    CNN + LSTM model for grammar scoring\n",
    "    \"\"\"\n",
    "    def __init__(self, input_dim=FEATURE_DIM, hidden_dim=128, num_layers=2, dropout=0.3):\n",
    "        super(GrammarScoringModel, self).__init__()\n",
    "        \n",
    "        # CNN layers for feature extraction\n",
    "        self.conv1 = nn.Conv1d(input_dim, 64, kernel_size=3, padding=1)\n",
    "        self.bn1 = nn.BatchNorm1d(64)\n",
    "        self.conv2 = nn.Conv1d(64, 128, kernel_size=3, padding=1)\n",
    "        self.bn2 = nn.BatchNorm1d(128)\n",
    "        self.pool = nn.MaxPool1d(kernel_size=2, stride=2)\n",
    "        self.dropout1 = nn.Dropout(dropout)\n",
    "        \n",
    "        # LSTM for temporal modeling\n",
    "        self.lstm = nn.LSTM(\n",
    "            input_size=128,\n",
    "            hidden_size=hidden_dim,\n",
    "            num_layers=num_layers,\n",
    "            batch_first=True,\n",
    "            bidirectional=True,\n",
    "            dropout=dropout if num_layers > 1 else 0\n",
    "        )\n",
    "        self.dropout2 = nn.Dropout(dropout)\n",
    "        \n",
    "        # Attention mechanism\n",
    "        self.attention = nn.Linear(hidden_dim * 2, 1)\n",
    "        \n",
    "        # Fully connected layers for regression\n",
    "        self.fc1 = nn.Linear(hidden_dim * 2, hidden_dim)\n",
    "        self.dropout3 = nn.Dropout(dropout)\n",
    "        self.fc2 = nn.Linear(hidden_dim, 1)\n",
    "        \n",
    "        # Activation functions\n",
    "        self.relu = nn.ReLU()\n",
    "        self.sigmoid = nn.Sigmoid()\n",
    "        \n",
    "    def forward(self, x):\n",
    "        # CNN layers\n",
    "        x = self.relu(self.bn1(self.conv1(x)))\n",
    "        x = self.pool(x)\n",
    "        x = self.relu(self.bn2(self.conv2(x)))\n",
    "        x = self.pool(x)\n",
    "        x = self.dropout1(x)\n",
    "        \n",
    "        # Reshape for LSTM\n",
    "        x = x.permute(0, 2, 1)  # (batch_size, seq_len, channels)\n",
    "        \n",
    "        # LSTM layer\n",
    "        x, (hidden, _) = self.lstm(x)\n",
    "        x = self.dropout2(x)\n",
    "        \n",
    "        # Attention mechanism\n",
    "        attn_weights = self.attention(x)\n",
    "        attn_weights = torch.softmax(attn_weights, dim=1)\n",
    "        x = torch.sum(x * attn_weights, dim=1)\n",
    "        \n",
    "        # Fully connected layers\n",
    "        x = self.relu(self.fc1(x))\n",
    "        x = self.dropout3(x)\n",
    "        x = self.fc2(x)\n",
    "        \n",
    "        # Scale output to range [0, 5]\n",
    "        x = 5 * self.sigmoid(x)\n",
    "        \n",
    "        return x"
   ]
  },
  {
   "cell_type": "code",
   "execution_count": 25,
   "metadata": {
    "execution": {
     "iopub.execute_input": "2025-04-04T19:17:52.768851Z",
     "iopub.status.busy": "2025-04-04T19:17:52.768566Z",
     "iopub.status.idle": "2025-04-04T19:17:52.791254Z",
     "shell.execute_reply": "2025-04-04T19:17:52.790435Z",
     "shell.execute_reply.started": "2025-04-04T19:17:52.768830Z"
    },
    "trusted": true
   },
   "outputs": [
    {
     "name": "stdout",
     "output_type": "stream",
     "text": [
      "GrammarScoringModel(\n",
      "  (conv1): Conv1d(40, 64, kernel_size=(3,), stride=(1,), padding=(1,))\n",
      "  (bn1): BatchNorm1d(64, eps=1e-05, momentum=0.1, affine=True, track_running_stats=True)\n",
      "  (conv2): Conv1d(64, 128, kernel_size=(3,), stride=(1,), padding=(1,))\n",
      "  (bn2): BatchNorm1d(128, eps=1e-05, momentum=0.1, affine=True, track_running_stats=True)\n",
      "  (pool): MaxPool1d(kernel_size=2, stride=2, padding=0, dilation=1, ceil_mode=False)\n",
      "  (dropout1): Dropout(p=0.3, inplace=False)\n",
      "  (lstm): LSTM(128, 128, num_layers=2, batch_first=True, dropout=0.3, bidirectional=True)\n",
      "  (dropout2): Dropout(p=0.3, inplace=False)\n",
      "  (attention): Linear(in_features=256, out_features=1, bias=True)\n",
      "  (fc1): Linear(in_features=256, out_features=128, bias=True)\n",
      "  (dropout3): Dropout(p=0.3, inplace=False)\n",
      "  (fc2): Linear(in_features=128, out_features=1, bias=True)\n",
      "  (relu): ReLU()\n",
      "  (sigmoid): Sigmoid()\n",
      ")\n"
     ]
    }
   ],
   "source": [
    "model = GrammarScoringModel().to(device)\n",
    "print(model)"
   ]
  },
  {
   "cell_type": "code",
   "execution_count": 26,
   "metadata": {
    "execution": {
     "iopub.execute_input": "2025-04-04T19:17:56.429880Z",
     "iopub.status.busy": "2025-04-04T19:17:56.429567Z",
     "iopub.status.idle": "2025-04-04T19:17:56.434607Z",
     "shell.execute_reply": "2025-04-04T19:17:56.433811Z",
     "shell.execute_reply.started": "2025-04-04T19:17:56.429857Z"
    },
    "trusted": true
   },
   "outputs": [],
   "source": [
    "# Define loss function and optimizer\n",
    "criterion = nn.MSELoss()\n",
    "optimizer = optim.Adam(model.parameters(), lr=LEARNING_RATE)\n",
    "scheduler = optim.lr_scheduler.ReduceLROnPlateau(optimizer, mode='min', factor=0.5, patience=3, verbose=True)"
   ]
  },
  {
   "cell_type": "markdown",
   "metadata": {},
   "source": [
    "## Train\n",
    "- Split training data into 80% training and 20% validation\n",
    "- Used Mean Squared Error (MSE) as the loss function\n",
    "- Adam optimizer with learning rate scheduling\n",
    "- Early stopping based on validation loss\n",
    "- Batch size of 16, trained for 30 epochs\n",
    "\n",
    "## Evaluation Metrics\n",
    "- Root Mean Squared Error (RMSE)\n",
    "- Mean Absolute Error (MAE)\n",
    "- Distribution analysis of predicted scores"
   ]
  },
  {
   "cell_type": "code",
   "execution_count": 27,
   "metadata": {
    "execution": {
     "iopub.execute_input": "2025-04-04T19:17:59.358093Z",
     "iopub.status.busy": "2025-04-04T19:17:59.357814Z",
     "iopub.status.idle": "2025-04-04T19:17:59.362975Z",
     "shell.execute_reply": "2025-04-04T19:17:59.362083Z",
     "shell.execute_reply.started": "2025-04-04T19:17:59.358071Z"
    },
    "trusted": true
   },
   "outputs": [],
   "source": [
    "def train_epoch(model, dataloader, criterion, optimizer, device):\n",
    "    model.train()\n",
    "    total_loss = 0\n",
    "    \n",
    "    for features, labels in tqdm(dataloader, desc=\"Training\"):\n",
    "        features = features.to(device)\n",
    "        labels = labels.to(device)\n",
    "        \n",
    "        # Forward pass\n",
    "        outputs = model(features)\n",
    "        loss = criterion(outputs, labels)\n",
    "        \n",
    "        # Backward pass and optimize\n",
    "        optimizer.zero_grad()\n",
    "        loss.backward()\n",
    "        optimizer.step()\n",
    "        \n",
    "        total_loss += loss.item()\n",
    "    \n",
    "    return total_loss / len(dataloader)"
   ]
  },
  {
   "cell_type": "code",
   "execution_count": 28,
   "metadata": {
    "execution": {
     "iopub.execute_input": "2025-04-04T19:18:01.770283Z",
     "iopub.status.busy": "2025-04-04T19:18:01.769962Z",
     "iopub.status.idle": "2025-04-04T19:18:01.775411Z",
     "shell.execute_reply": "2025-04-04T19:18:01.774574Z",
     "shell.execute_reply.started": "2025-04-04T19:18:01.770255Z"
    },
    "trusted": true
   },
   "outputs": [],
   "source": [
    "def validate(model, dataloader, criterion, device):\n",
    "    model.eval()\n",
    "    total_loss = 0\n",
    "    all_preds = []\n",
    "    all_labels = []\n",
    "    \n",
    "    with torch.no_grad():\n",
    "        for features, labels in tqdm(dataloader, desc=\"Validation\"):\n",
    "            features = features.to(device)\n",
    "            labels = labels.to(device)\n",
    "            \n",
    "            # Forward pass\n",
    "            outputs = model(features)\n",
    "            loss = criterion(outputs, labels)\n",
    "            \n",
    "            total_loss += loss.item()\n",
    "            all_preds.extend(outputs.cpu().numpy())\n",
    "            all_labels.extend(labels.cpu().numpy())\n",
    "    \n",
    "    return total_loss / len(dataloader), np.array(all_preds), np.array(all_labels)"
   ]
  },
  {
   "cell_type": "code",
   "execution_count": 29,
   "metadata": {
    "execution": {
     "iopub.execute_input": "2025-04-04T19:18:03.915150Z",
     "iopub.status.busy": "2025-04-04T19:18:03.914820Z",
     "iopub.status.idle": "2025-04-04T19:18:03.921588Z",
     "shell.execute_reply": "2025-04-04T19:18:03.920727Z",
     "shell.execute_reply.started": "2025-04-04T19:18:03.915123Z"
    },
    "trusted": true
   },
   "outputs": [],
   "source": [
    "def train_model(model, train_loader, val_loader, criterion, optimizer, scheduler, device, epochs):\n",
    "    history = {\n",
    "        'train_loss': [],\n",
    "        'val_loss': [],\n",
    "        'val_rmse': [],\n",
    "        'val_mae': []\n",
    "    }\n",
    "    \n",
    "    best_val_loss = float('inf')\n",
    "    best_model_state = None\n",
    "    \n",
    "    for epoch in range(epochs):\n",
    "        print(f\"\\nEpoch {epoch+1}/{epochs}\")\n",
    "        \n",
    "        # Train\n",
    "        train_loss = train_epoch(model, train_loader, criterion, optimizer, device)\n",
    "        history['train_loss'].append(train_loss)\n",
    "        \n",
    "        # Validate\n",
    "        val_loss, val_preds, val_labels = validate(model, val_loader, criterion, device)\n",
    "        history['val_loss'].append(val_loss)\n",
    "        \n",
    "        # Calculate metrics\n",
    "        val_rmse = np.sqrt(mean_squared_error(val_labels, val_preds))\n",
    "        val_mae = mean_absolute_error(val_labels, val_preds)\n",
    "        history['val_rmse'].append(val_rmse)\n",
    "        history['val_mae'].append(val_mae)\n",
    "        \n",
    "        print(f\"Train Loss: {train_loss:.4f}, Val Loss: {val_loss:.4f}, Val RMSE: {val_rmse:.4f}, Val MAE: {val_mae:.4f}\")\n",
    "        \n",
    "        # Update learning rate\n",
    "        scheduler.step(val_loss)\n",
    "        \n",
    "        # Save the best model\n",
    "        if val_loss < best_val_loss:\n",
    "            best_val_loss = val_loss\n",
    "            best_model_state = model.state_dict().copy()\n",
    "            print(f\"New best model with validation loss: {best_val_loss:.4f}\")\n",
    "    \n",
    "    # Load the best model\n",
    "    model.load_state_dict(best_model_state)\n",
    "    \n",
    "    return model, history"
   ]
  },
  {
   "cell_type": "code",
   "execution_count": 30,
   "metadata": {
    "execution": {
     "iopub.execute_input": "2025-04-04T19:18:08.471845Z",
     "iopub.status.busy": "2025-04-04T19:18:08.471555Z",
     "iopub.status.idle": "2025-04-04T19:52:43.715935Z",
     "shell.execute_reply": "2025-04-04T19:52:43.714780Z",
     "shell.execute_reply.started": "2025-04-04T19:18:08.471822Z"
    },
    "trusted": true
   },
   "outputs": [
    {
     "name": "stdout",
     "output_type": "stream",
     "text": [
      "\n",
      "Epoch 1/30\n"
     ]
    },
    {
     "name": "stderr",
     "output_type": "stream",
     "text": [
      "Training: 100%|██████████| 23/23 [01:14<00:00,  3.26s/it]\n",
      "Validation: 100%|██████████| 6/6 [00:17<00:00,  2.87s/it]\n"
     ]
    },
    {
     "name": "stdout",
     "output_type": "stream",
     "text": [
      "Train Loss: 1.3882, Val Loss: 1.2828, Val RMSE: 1.1264, Val MAE: 1.0191\n",
      "New best model with validation loss: 1.2828\n",
      "\n",
      "Epoch 2/30\n"
     ]
    },
    {
     "name": "stderr",
     "output_type": "stream",
     "text": [
      "Training: 100%|██████████| 23/23 [00:51<00:00,  2.26s/it]\n",
      "Validation: 100%|██████████| 6/6 [00:16<00:00,  2.73s/it]\n"
     ]
    },
    {
     "name": "stdout",
     "output_type": "stream",
     "text": [
      "Train Loss: 1.0194, Val Loss: 1.6723, Val RMSE: 1.2643, Val MAE: 1.0602\n",
      "\n",
      "Epoch 3/30\n"
     ]
    },
    {
     "name": "stderr",
     "output_type": "stream",
     "text": [
      "Training: 100%|██████████| 23/23 [00:52<00:00,  2.27s/it]\n",
      "Validation: 100%|██████████| 6/6 [00:16<00:00,  2.69s/it]\n"
     ]
    },
    {
     "name": "stdout",
     "output_type": "stream",
     "text": [
      "Train Loss: 0.9775, Val Loss: 1.0140, Val RMSE: 1.0093, Val MAE: 0.8386\n",
      "New best model with validation loss: 1.0140\n",
      "\n",
      "Epoch 4/30\n"
     ]
    },
    {
     "name": "stderr",
     "output_type": "stream",
     "text": [
      "Training: 100%|██████████| 23/23 [00:51<00:00,  2.22s/it]\n",
      "Validation: 100%|██████████| 6/6 [00:16<00:00,  2.67s/it]\n"
     ]
    },
    {
     "name": "stdout",
     "output_type": "stream",
     "text": [
      "Train Loss: 0.8567, Val Loss: 1.0712, Val RMSE: 1.0175, Val MAE: 0.8275\n",
      "\n",
      "Epoch 5/30\n"
     ]
    },
    {
     "name": "stderr",
     "output_type": "stream",
     "text": [
      "Training: 100%|██████████| 23/23 [00:52<00:00,  2.29s/it]\n",
      "Validation: 100%|██████████| 6/6 [00:16<00:00,  2.68s/it]\n"
     ]
    },
    {
     "name": "stdout",
     "output_type": "stream",
     "text": [
      "Train Loss: 0.8288, Val Loss: 1.0153, Val RMSE: 1.0040, Val MAE: 0.8154\n",
      "\n",
      "Epoch 6/30\n"
     ]
    },
    {
     "name": "stderr",
     "output_type": "stream",
     "text": [
      "Training: 100%|██████████| 23/23 [00:51<00:00,  2.24s/it]\n",
      "Validation: 100%|██████████| 6/6 [00:16<00:00,  2.76s/it]\n"
     ]
    },
    {
     "name": "stdout",
     "output_type": "stream",
     "text": [
      "Train Loss: 0.7755, Val Loss: 1.1286, Val RMSE: 1.0437, Val MAE: 0.8467\n",
      "\n",
      "Epoch 7/30\n"
     ]
    },
    {
     "name": "stderr",
     "output_type": "stream",
     "text": [
      "Training: 100%|██████████| 23/23 [00:53<00:00,  2.32s/it]\n",
      "Validation: 100%|██████████| 6/6 [00:17<00:00,  2.89s/it]\n"
     ]
    },
    {
     "name": "stdout",
     "output_type": "stream",
     "text": [
      "Train Loss: 0.7306, Val Loss: 1.0666, Val RMSE: 1.0271, Val MAE: 0.8000\n",
      "\n",
      "Epoch 8/30\n"
     ]
    },
    {
     "name": "stderr",
     "output_type": "stream",
     "text": [
      "Training: 100%|██████████| 23/23 [00:54<00:00,  2.38s/it]\n",
      "Validation: 100%|██████████| 6/6 [00:16<00:00,  2.71s/it]\n"
     ]
    },
    {
     "name": "stdout",
     "output_type": "stream",
     "text": [
      "Train Loss: 0.6782, Val Loss: 1.0466, Val RMSE: 1.0170, Val MAE: 0.7850\n",
      "\n",
      "Epoch 9/30\n"
     ]
    },
    {
     "name": "stderr",
     "output_type": "stream",
     "text": [
      "Training: 100%|██████████| 23/23 [00:51<00:00,  2.23s/it]\n",
      "Validation: 100%|██████████| 6/6 [00:15<00:00,  2.61s/it]\n"
     ]
    },
    {
     "name": "stdout",
     "output_type": "stream",
     "text": [
      "Train Loss: 0.5991, Val Loss: 1.0532, Val RMSE: 1.0168, Val MAE: 0.7712\n",
      "\n",
      "Epoch 10/30\n"
     ]
    },
    {
     "name": "stderr",
     "output_type": "stream",
     "text": [
      "Training: 100%|██████████| 23/23 [00:50<00:00,  2.20s/it]\n",
      "Validation: 100%|██████████| 6/6 [00:16<00:00,  2.75s/it]\n"
     ]
    },
    {
     "name": "stdout",
     "output_type": "stream",
     "text": [
      "Train Loss: 0.6638, Val Loss: 1.0303, Val RMSE: 1.0062, Val MAE: 0.7657\n",
      "\n",
      "Epoch 11/30\n"
     ]
    },
    {
     "name": "stderr",
     "output_type": "stream",
     "text": [
      "Training: 100%|██████████| 23/23 [00:50<00:00,  2.18s/it]\n",
      "Validation: 100%|██████████| 6/6 [00:15<00:00,  2.66s/it]\n"
     ]
    },
    {
     "name": "stdout",
     "output_type": "stream",
     "text": [
      "Train Loss: 0.7047, Val Loss: 0.9631, Val RMSE: 0.9815, Val MAE: 0.7690\n",
      "New best model with validation loss: 0.9631\n",
      "\n",
      "Epoch 12/30\n"
     ]
    },
    {
     "name": "stderr",
     "output_type": "stream",
     "text": [
      "Training: 100%|██████████| 23/23 [00:50<00:00,  2.18s/it]\n",
      "Validation: 100%|██████████| 6/6 [00:15<00:00,  2.55s/it]\n"
     ]
    },
    {
     "name": "stdout",
     "output_type": "stream",
     "text": [
      "Train Loss: 0.6011, Val Loss: 0.9910, Val RMSE: 0.9853, Val MAE: 0.7710\n",
      "\n",
      "Epoch 13/30\n"
     ]
    },
    {
     "name": "stderr",
     "output_type": "stream",
     "text": [
      "Training: 100%|██████████| 23/23 [00:51<00:00,  2.26s/it]\n",
      "Validation: 100%|██████████| 6/6 [00:15<00:00,  2.60s/it]\n"
     ]
    },
    {
     "name": "stdout",
     "output_type": "stream",
     "text": [
      "Train Loss: 0.6083, Val Loss: 1.0205, Val RMSE: 1.0042, Val MAE: 0.7673\n",
      "\n",
      "Epoch 14/30\n"
     ]
    },
    {
     "name": "stderr",
     "output_type": "stream",
     "text": [
      "Training: 100%|██████████| 23/23 [00:51<00:00,  2.23s/it]\n",
      "Validation: 100%|██████████| 6/6 [00:15<00:00,  2.61s/it]\n"
     ]
    },
    {
     "name": "stdout",
     "output_type": "stream",
     "text": [
      "Train Loss: 0.5810, Val Loss: 1.0460, Val RMSE: 1.0074, Val MAE: 0.7747\n",
      "\n",
      "Epoch 15/30\n"
     ]
    },
    {
     "name": "stderr",
     "output_type": "stream",
     "text": [
      "Training: 100%|██████████| 23/23 [00:52<00:00,  2.27s/it]\n",
      "Validation: 100%|██████████| 6/6 [00:15<00:00,  2.58s/it]\n"
     ]
    },
    {
     "name": "stdout",
     "output_type": "stream",
     "text": [
      "Train Loss: 0.7015, Val Loss: 1.0436, Val RMSE: 1.0068, Val MAE: 0.7683\n",
      "\n",
      "Epoch 16/30\n"
     ]
    },
    {
     "name": "stderr",
     "output_type": "stream",
     "text": [
      "Training: 100%|██████████| 23/23 [00:48<00:00,  2.11s/it]\n",
      "Validation: 100%|██████████| 6/6 [00:15<00:00,  2.66s/it]\n"
     ]
    },
    {
     "name": "stdout",
     "output_type": "stream",
     "text": [
      "Train Loss: 0.5095, Val Loss: 1.0191, Val RMSE: 1.0008, Val MAE: 0.7563\n",
      "\n",
      "Epoch 17/30\n"
     ]
    },
    {
     "name": "stderr",
     "output_type": "stream",
     "text": [
      "Training: 100%|██████████| 23/23 [00:49<00:00,  2.16s/it]\n",
      "Validation: 100%|██████████| 6/6 [00:15<00:00,  2.63s/it]\n"
     ]
    },
    {
     "name": "stdout",
     "output_type": "stream",
     "text": [
      "Train Loss: 0.5047, Val Loss: 1.0185, Val RMSE: 1.0179, Val MAE: 0.7682\n",
      "\n",
      "Epoch 18/30\n"
     ]
    },
    {
     "name": "stderr",
     "output_type": "stream",
     "text": [
      "Training: 100%|██████████| 23/23 [00:48<00:00,  2.09s/it]\n",
      "Validation: 100%|██████████| 6/6 [00:15<00:00,  2.61s/it]\n"
     ]
    },
    {
     "name": "stdout",
     "output_type": "stream",
     "text": [
      "Train Loss: 0.5215, Val Loss: 1.0157, Val RMSE: 0.9956, Val MAE: 0.7339\n",
      "\n",
      "Epoch 19/30\n"
     ]
    },
    {
     "name": "stderr",
     "output_type": "stream",
     "text": [
      "Training: 100%|██████████| 23/23 [00:51<00:00,  2.24s/it]\n",
      "Validation: 100%|██████████| 6/6 [00:16<00:00,  2.68s/it]\n"
     ]
    },
    {
     "name": "stdout",
     "output_type": "stream",
     "text": [
      "Train Loss: 0.4552, Val Loss: 1.0342, Val RMSE: 1.0176, Val MAE: 0.7401\n",
      "\n",
      "Epoch 20/30\n"
     ]
    },
    {
     "name": "stderr",
     "output_type": "stream",
     "text": [
      "Training: 100%|██████████| 23/23 [00:49<00:00,  2.17s/it]\n",
      "Validation: 100%|██████████| 6/6 [00:16<00:00,  2.75s/it]\n"
     ]
    },
    {
     "name": "stdout",
     "output_type": "stream",
     "text": [
      "Train Loss: 0.3640, Val Loss: 1.0030, Val RMSE: 1.0013, Val MAE: 0.7403\n",
      "\n",
      "Epoch 21/30\n"
     ]
    },
    {
     "name": "stderr",
     "output_type": "stream",
     "text": [
      "Training: 100%|██████████| 23/23 [00:51<00:00,  2.22s/it]\n",
      "Validation: 100%|██████████| 6/6 [00:16<00:00,  2.74s/it]\n"
     ]
    },
    {
     "name": "stdout",
     "output_type": "stream",
     "text": [
      "Train Loss: 0.3730, Val Loss: 0.9961, Val RMSE: 0.9969, Val MAE: 0.7450\n",
      "\n",
      "Epoch 22/30\n"
     ]
    },
    {
     "name": "stderr",
     "output_type": "stream",
     "text": [
      "Training: 100%|██████████| 23/23 [00:50<00:00,  2.18s/it]\n",
      "Validation: 100%|██████████| 6/6 [00:16<00:00,  2.75s/it]\n"
     ]
    },
    {
     "name": "stdout",
     "output_type": "stream",
     "text": [
      "Train Loss: 0.4015, Val Loss: 1.0237, Val RMSE: 1.0238, Val MAE: 0.7683\n",
      "\n",
      "Epoch 23/30\n"
     ]
    },
    {
     "name": "stderr",
     "output_type": "stream",
     "text": [
      "Training: 100%|██████████| 23/23 [00:49<00:00,  2.16s/it]\n",
      "Validation: 100%|██████████| 6/6 [00:16<00:00,  2.68s/it]\n"
     ]
    },
    {
     "name": "stdout",
     "output_type": "stream",
     "text": [
      "Train Loss: 0.3647, Val Loss: 0.9952, Val RMSE: 0.9882, Val MAE: 0.7277\n",
      "\n",
      "Epoch 24/30\n"
     ]
    },
    {
     "name": "stderr",
     "output_type": "stream",
     "text": [
      "Training: 100%|██████████| 23/23 [00:50<00:00,  2.21s/it]\n",
      "Validation: 100%|██████████| 6/6 [00:16<00:00,  2.76s/it]\n"
     ]
    },
    {
     "name": "stdout",
     "output_type": "stream",
     "text": [
      "Train Loss: 0.4023, Val Loss: 1.0267, Val RMSE: 1.0050, Val MAE: 0.7362\n",
      "\n",
      "Epoch 25/30\n"
     ]
    },
    {
     "name": "stderr",
     "output_type": "stream",
     "text": [
      "Training: 100%|██████████| 23/23 [00:57<00:00,  2.50s/it]\n",
      "Validation: 100%|██████████| 6/6 [00:17<00:00,  2.94s/it]\n"
     ]
    },
    {
     "name": "stdout",
     "output_type": "stream",
     "text": [
      "Train Loss: 0.3961, Val Loss: 0.9944, Val RMSE: 1.0050, Val MAE: 0.7472\n",
      "\n",
      "Epoch 26/30\n"
     ]
    },
    {
     "name": "stderr",
     "output_type": "stream",
     "text": [
      "Training: 100%|██████████| 23/23 [00:54<00:00,  2.35s/it]\n",
      "Validation: 100%|██████████| 6/6 [00:15<00:00,  2.62s/it]\n"
     ]
    },
    {
     "name": "stdout",
     "output_type": "stream",
     "text": [
      "Train Loss: 0.3470, Val Loss: 0.9873, Val RMSE: 0.9903, Val MAE: 0.7325\n",
      "\n",
      "Epoch 27/30\n"
     ]
    },
    {
     "name": "stderr",
     "output_type": "stream",
     "text": [
      "Training: 100%|██████████| 23/23 [00:50<00:00,  2.17s/it]\n",
      "Validation: 100%|██████████| 6/6 [00:16<00:00,  2.67s/it]\n"
     ]
    },
    {
     "name": "stdout",
     "output_type": "stream",
     "text": [
      "Train Loss: 0.3691, Val Loss: 0.9646, Val RMSE: 0.9891, Val MAE: 0.7327\n",
      "\n",
      "Epoch 28/30\n"
     ]
    },
    {
     "name": "stderr",
     "output_type": "stream",
     "text": [
      "Training: 100%|██████████| 23/23 [00:55<00:00,  2.39s/it]\n",
      "Validation: 100%|██████████| 6/6 [00:18<00:00,  3.10s/it]\n"
     ]
    },
    {
     "name": "stdout",
     "output_type": "stream",
     "text": [
      "Train Loss: 0.3529, Val Loss: 0.9745, Val RMSE: 0.9875, Val MAE: 0.7317\n",
      "\n",
      "Epoch 29/30\n"
     ]
    },
    {
     "name": "stderr",
     "output_type": "stream",
     "text": [
      "Training: 100%|██████████| 23/23 [00:59<00:00,  2.58s/it]\n",
      "Validation: 100%|██████████| 6/6 [00:17<00:00,  2.99s/it]\n"
     ]
    },
    {
     "name": "stdout",
     "output_type": "stream",
     "text": [
      "Train Loss: 0.3388, Val Loss: 0.9794, Val RMSE: 0.9894, Val MAE: 0.7288\n",
      "\n",
      "Epoch 30/30\n"
     ]
    },
    {
     "name": "stderr",
     "output_type": "stream",
     "text": [
      "Training: 100%|██████████| 23/23 [00:58<00:00,  2.56s/it]\n",
      "Validation: 100%|██████████| 6/6 [00:17<00:00,  2.89s/it]"
     ]
    },
    {
     "name": "stdout",
     "output_type": "stream",
     "text": [
      "Train Loss: 0.3166, Val Loss: 0.9707, Val RMSE: 0.9882, Val MAE: 0.7293\n",
      "\n",
      "Model saved as 'grammar_scoring_model.pth'\n"
     ]
    },
    {
     "name": "stderr",
     "output_type": "stream",
     "text": [
      "\n"
     ]
    }
   ],
   "source": [
    "# Train the model\n",
    "trained_model, history = train_model(\n",
    "    model, \n",
    "    train_loader, \n",
    "    val_loader, \n",
    "    criterion, \n",
    "    optimizer, \n",
    "    scheduler, \n",
    "    device, \n",
    "    EPOCHS\n",
    ")\n",
    "\n",
    "# Save the trained model\n",
    "torch.save(trained_model.state_dict(), 'grammar_scoring_model.pth')\n",
    "print(\"\\nModel saved as 'grammar_scoring_model.pth'\")"
   ]
  },
  {
   "cell_type": "code",
   "execution_count": 31,
   "metadata": {
    "execution": {
     "iopub.execute_input": "2025-04-04T19:52:49.095666Z",
     "iopub.status.busy": "2025-04-04T19:52:49.095290Z",
     "iopub.status.idle": "2025-04-04T19:52:49.741529Z",
     "shell.execute_reply": "2025-04-04T19:52:49.740558Z",
     "shell.execute_reply.started": "2025-04-04T19:52:49.095632Z"
    },
    "trusted": true
   },
   "outputs": [
    {
     "data": {
      "image/png": "[encoded data removed]",
      "text/plain": [
       "<Figure size 1200x400 with 2 Axes>"
      ]
     },
     "metadata": {},
     "output_type": "display_data"
    }
   ],
   "source": [
    "# Plot training history\n",
    "plt.figure(figsize=(12, 4))\n",
    "\n",
    "plt.subplot(1, 2, 1)\n",
    "plt.plot(history['train_loss'], label='Train Loss')\n",
    "plt.plot(history['val_loss'], label='Val Loss')\n",
    "plt.xlabel('Epoch')\n",
    "plt.ylabel('Loss')\n",
    "plt.title('Training and Validation Loss')\n",
    "plt.legend()\n",
    "\n",
    "plt.subplot(1, 2, 2)\n",
    "plt.plot(history['val_rmse'], label='RMSE')\n",
    "plt.plot(history['val_mae'], label='MAE')\n",
    "plt.xlabel('Epoch')\n",
    "plt.ylabel('Error')\n",
    "plt.title('Validation Metrics')\n",
    "plt.legend()\n",
    "\n",
    "plt.tight_layout()\n",
    "plt.savefig('training_history.png')\n",
    "plt.show()"
   ]
  },
  {
   "cell_type": "markdown",
   "metadata": {},
   "source": [
    "# Test"
   ]
  },
  {
   "cell_type": "code",
   "execution_count": 43,
   "metadata": {
    "execution": {
     "iopub.execute_input": "2025-04-04T20:16:43.439902Z",
     "iopub.status.busy": "2025-04-04T20:16:43.439579Z",
     "iopub.status.idle": "2025-04-04T20:16:43.444990Z",
     "shell.execute_reply": "2025-04-04T20:16:43.444157Z",
     "shell.execute_reply.started": "2025-04-04T20:16:43.439872Z"
    },
    "trusted": true
   },
   "outputs": [],
   "source": [
    "def test_model(model, test_loader, device):\n",
    "    \"\"\"\n",
    "    Test the model and generate predictions\n",
    "    \n",
    "    Args:\n",
    "        model: Trained model\n",
    "        test_loader: DataLoader for test data\n",
    "        device: Device to use\n",
    "        \n",
    "    Returns:\n",
    "        Predictions for the test set\n",
    "    \"\"\"\n",
    "    model.eval()\n",
    "    all_preds = []\n",
    "    \n",
    "    with torch.no_grad():\n",
    "        for features in tqdm(test_loader, desc=\"Testing\"):\n",
    "            features = features.to(device)\n",
    "            \n",
    "            # Forward pass\n",
    "            outputs = model(features)\n",
    "            all_preds.extend(outputs.cpu().numpy())\n",
    "    \n",
    "    return np.array(all_preds)"
   ]
  },
  {
   "cell_type": "code",
   "execution_count": 44,
   "metadata": {
    "execution": {
     "iopub.execute_input": "2025-04-04T20:16:47.290288Z",
     "iopub.status.busy": "2025-04-04T20:16:47.289957Z",
     "iopub.status.idle": "2025-04-04T20:17:17.433399Z",
     "shell.execute_reply": "2025-04-04T20:17:17.432354Z",
     "shell.execute_reply.started": "2025-04-04T20:16:47.290261Z"
    },
    "trusted": true
   },
   "outputs": [
    {
     "name": "stderr",
     "output_type": "stream",
     "text": [
      "Testing:   0%|          | 0/13 [00:00<?, ?it/s]Exception ignored in: Exception ignored in: <function _MultiProcessingDataLoaderIter.__del__ at 0x7af1a8baa710><function _MultiProcessingDataLoaderIter.__del__ at 0x7af1a8baa710>Exception ignored in: \n",
      "\n",
      "Traceback (most recent call last):\n",
      "<function _MultiProcessingDataLoaderIter.__del__ at 0x7af1a8baa710>  File \"/usr/local/lib/python3.10/dist-packages/torch/utils/data/dataloader.py\", line 1604, in __del__\n",
      "Traceback (most recent call last):\n",
      "\n",
      "  File \"/usr/local/lib/python3.10/dist-packages/torch/utils/data/dataloader.py\", line 1604, in __del__\n",
      "Traceback (most recent call last):\n",
      "      File \"/usr/local/lib/python3.10/dist-packages/torch/utils/data/dataloader.py\", line 1604, in __del__\n",
      "    Exception ignored in: self._shutdown_workers()self._shutdown_workers()    <function _MultiProcessingDataLoaderIter.__del__ at 0x7af1a8baa710>\n",
      "\n",
      "self._shutdown_workers()\n",
      "  File \"/usr/local/lib/python3.10/dist-packages/torch/utils/data/dataloader.py\", line 1587, in _shutdown_workers\n",
      "\n",
      "  File \"/usr/local/lib/python3.10/dist-packages/torch/utils/data/dataloader.py\", line 1587, in _shutdown_workers\n",
      "    Traceback (most recent call last):\n",
      "if w.is_alive():      File \"/usr/local/lib/python3.10/dist-packages/torch/utils/data/dataloader.py\", line 1604, in __del__\n",
      "if w.is_alive():  File \"/usr/local/lib/python3.10/dist-packages/torch/utils/data/dataloader.py\", line 1587, in _shutdown_workers\n",
      "\n",
      "\n",
      "      File \"/usr/lib/python3.10/multiprocessing/process.py\", line 160, in is_alive\n",
      "      File \"/usr/lib/python3.10/multiprocessing/process.py\", line 160, in is_alive\n",
      "self._shutdown_workers()    if w.is_alive():\n",
      "    assert self._parent_pid == os.getpid(), 'can only test a child process'assert self._parent_pid == os.getpid(), 'can only test a child process'  File \"/usr/local/lib/python3.10/dist-packages/torch/utils/data/dataloader.py\", line 1587, in _shutdown_workers\n",
      "\n",
      "\n",
      "\n",
      "  File \"/usr/lib/python3.10/multiprocessing/process.py\", line 160, in is_alive\n",
      "AssertionError        AssertionErrorassert self._parent_pid == os.getpid(), 'can only test a child process'if w.is_alive():: : can only test a child process\n",
      "\n",
      "can only test a child process  File \"/usr/lib/python3.10/multiprocessing/process.py\", line 160, in is_alive\n",
      "\n",
      "\n",
      "    AssertionErrorException ignored in: assert self._parent_pid == os.getpid(), 'can only test a child process': <function _MultiProcessingDataLoaderIter.__del__ at 0x7af1a8baa710>Exception ignored in: \n",
      "can only test a child process\n",
      "<function _MultiProcessingDataLoaderIter.__del__ at 0x7af1a8baa710>AssertionError\n",
      "Traceback (most recent call last):\n",
      "\n",
      ": Traceback (most recent call last):\n",
      "  File \"/usr/local/lib/python3.10/dist-packages/torch/utils/data/dataloader.py\", line 1604, in __del__\n",
      "  File \"/usr/local/lib/python3.10/dist-packages/torch/utils/data/dataloader.py\", line 1604, in __del__\n",
      "can only test a child process    \n",
      "Exception ignored in:     self._shutdown_workers()<function _MultiProcessingDataLoaderIter.__del__ at 0x7af1a8baa710>\n",
      "self._shutdown_workers()Exception ignored in:   File \"/usr/local/lib/python3.10/dist-packages/torch/utils/data/dataloader.py\", line 1587, in _shutdown_workers\n",
      "\n",
      "\n",
      "<function _MultiProcessingDataLoaderIter.__del__ at 0x7af1a8baa710>  File \"/usr/local/lib/python3.10/dist-packages/torch/utils/data/dataloader.py\", line 1587, in _shutdown_workers\n",
      "    Traceback (most recent call last):\n",
      "if w.is_alive():\n",
      "  File \"/usr/local/lib/python3.10/dist-packages/torch/utils/data/dataloader.py\", line 1604, in __del__\n",
      "    Traceback (most recent call last):\n",
      "if w.is_alive():\n",
      "    \n",
      "self._shutdown_workers()  File \"/usr/local/lib/python3.10/dist-packages/torch/utils/data/dataloader.py\", line 1604, in __del__\n",
      "  File \"/usr/lib/python3.10/multiprocessing/process.py\", line 160, in is_alive\n",
      "  File \"/usr/lib/python3.10/multiprocessing/process.py\", line 160, in is_alive\n",
      "    \n",
      "          File \"/usr/local/lib/python3.10/dist-packages/torch/utils/data/dataloader.py\", line 1587, in _shutdown_workers\n",
      "self._shutdown_workers()assert self._parent_pid == os.getpid(), 'can only test a child process'assert self._parent_pid == os.getpid(), 'can only test a child process'\n",
      "\n",
      "\n",
      "AssertionError  File \"/usr/local/lib/python3.10/dist-packages/torch/utils/data/dataloader.py\", line 1587, in _shutdown_workers\n",
      "    AssertionError: if w.is_alive():    : can only test a child process\n",
      "if w.is_alive():\n",
      "can only test a child process\n",
      "  File \"/usr/lib/python3.10/multiprocessing/process.py\", line 160, in is_alive\n",
      "\n",
      "      File \"/usr/lib/python3.10/multiprocessing/process.py\", line 160, in is_alive\n",
      "assert self._parent_pid == os.getpid(), 'can only test a child process'\n",
      "    AssertionErrorassert self._parent_pid == os.getpid(), 'can only test a child process': \n",
      "AssertionErrorcan only test a child process: \n",
      "can only test a child process\n",
      "Exception ignored in: <function _MultiProcessingDataLoaderIter.__del__ at 0x7af1a8baa710>\n",
      "Traceback (most recent call last):\n",
      "  File \"/usr/local/lib/python3.10/dist-packages/torch/utils/data/dataloader.py\", line 1604, in __del__\n",
      "    Exception ignored in: self._shutdown_workers()<function _MultiProcessingDataLoaderIter.__del__ at 0x7af1a8baa710>\n",
      "\n",
      "Traceback (most recent call last):\n",
      "  File \"/usr/local/lib/python3.10/dist-packages/torch/utils/data/dataloader.py\", line 1587, in _shutdown_workers\n",
      "  File \"/usr/local/lib/python3.10/dist-packages/torch/utils/data/dataloader.py\", line 1604, in __del__\n",
      "    if w.is_alive():    \n",
      "self._shutdown_workers()  File \"/usr/lib/python3.10/multiprocessing/process.py\", line 160, in is_alive\n",
      "\n",
      "      File \"/usr/local/lib/python3.10/dist-packages/torch/utils/data/dataloader.py\", line 1587, in _shutdown_workers\n",
      "assert self._parent_pid == os.getpid(), 'can only test a child process'    \n",
      "if w.is_alive():AssertionError\n",
      ":   File \"/usr/lib/python3.10/multiprocessing/process.py\", line 160, in is_alive\n",
      "can only test a child process    \n",
      "Exception ignored in: assert self._parent_pid == os.getpid(), 'can only test a child process'<function _MultiProcessingDataLoaderIter.__del__ at 0x7af1a8baa710>\n",
      "\n",
      "Traceback (most recent call last):\n",
      "AssertionError  File \"/usr/local/lib/python3.10/dist-packages/torch/utils/data/dataloader.py\", line 1604, in __del__\n",
      "Exception ignored in: :     <function _MultiProcessingDataLoaderIter.__del__ at 0x7af1a8baa710>can only test a child processself._shutdown_workers()\n",
      "\n",
      "\n",
      "  File \"/usr/local/lib/python3.10/dist-packages/torch/utils/data/dataloader.py\", line 1587, in _shutdown_workers\n",
      "Traceback (most recent call last):\n",
      "      File \"/usr/local/lib/python3.10/dist-packages/torch/utils/data/dataloader.py\", line 1604, in __del__\n",
      "if w.is_alive():    \n",
      "self._shutdown_workers()  File \"/usr/lib/python3.10/multiprocessing/process.py\", line 160, in is_alive\n",
      "    \n",
      "assert self._parent_pid == os.getpid(), 'can only test a child process'  File \"/usr/local/lib/python3.10/dist-packages/torch/utils/data/dataloader.py\", line 1587, in _shutdown_workers\n",
      "\n",
      "AssertionError    : if w.is_alive():can only test a child process\n",
      "\n",
      "  File \"/usr/lib/python3.10/multiprocessing/process.py\", line 160, in is_alive\n",
      "    assert self._parent_pid == os.getpid(), 'can only test a child process'\n",
      "AssertionError: can only test a child process\n",
      "Testing: 100%|██████████| 13/13 [00:30<00:00,  2.32s/it]"
     ]
    },
    {
     "name": "stdout",
     "output_type": "stream",
     "text": [
      "\n",
      "Predictions saved to 'submission.csv'\n"
     ]
    },
    {
     "name": "stderr",
     "output_type": "stream",
     "text": [
      "\n"
     ]
    }
   ],
   "source": [
    "# Generate predictions for the test set\n",
    "test_preds = test_model(trained_model, test_loader, device)\n",
    "\n",
    "# Create submission file\n",
    "submission_df = test_df.copy()\n",
    "submission_df['label'] = test_preds.flatten()\n",
    "submission_df.to_csv('submission.csv', index=False)\n",
    "print(\"\\nPredictions saved to 'submission.csv'\")"
   ]
  },
  {
   "cell_type": "code",
   "execution_count": 45,
   "metadata": {
    "execution": {
     "iopub.execute_input": "2025-04-04T20:17:32.049709Z",
     "iopub.status.busy": "2025-04-04T20:17:32.049198Z",
     "iopub.status.idle": "2025-04-04T20:17:32.522120Z",
     "shell.execute_reply": "2025-04-04T20:17:32.521285Z",
     "shell.execute_reply.started": "2025-04-04T20:17:32.049655Z"
    },
    "trusted": true
   },
   "outputs": [
    {
     "data": {
      "image/png": "[encoded data removed]",
      "text/plain": [
       "<Figure size 1000x600 with 1 Axes>"
      ]
     },
     "metadata": {},
     "output_type": "display_data"
    }
   ],
   "source": [
    "# Visualize predictions\n",
    "plt.figure(figsize=(10, 6))\n",
    "plt.hist(submission_df['label'], bins=20, alpha=0.5, label='Test Predictions')\n",
    "plt.hist(train_df['label'], bins=20, alpha=0.5, label='Training Labels')\n",
    "plt.title('Distribution of Predicted Grammar Scores vs Training Labels')\n",
    "plt.xlabel('Grammar Score')\n",
    "plt.ylabel('Frequency')\n",
    "plt.legend()\n",
    "plt.tight_layout()\n",
    "plt.savefig('prediction_distribution.png')\n",
    "plt.show()"
   ]
  },
  {
   "cell_type": "code",
   "execution_count": 46,
   "metadata": {
    "execution": {
     "iopub.execute_input": "2025-04-04T20:17:45.253425Z",
     "iopub.status.busy": "2025-04-04T20:17:45.253133Z",
     "iopub.status.idle": "2025-04-04T20:17:45.259749Z",
     "shell.execute_reply": "2025-04-04T20:17:45.258952Z",
     "shell.execute_reply.started": "2025-04-04T20:17:45.253402Z"
    },
    "trusted": true
   },
   "outputs": [],
   "source": [
    "# Feature importance analysis (using attention weights)\n",
    "def analyze_feature_importance(model, dataloader, device):\n",
    "    \"\"\"\n",
    "    Analyze feature importance using attention weights\n",
    "    \n",
    "    Args:\n",
    "        model: Trained model\n",
    "        dataloader: DataLoader\n",
    "        device: Device to use\n",
    "        \n",
    "    Returns:\n",
    "        Average attention weights\n",
    "    \"\"\"\n",
    "    model.eval()\n",
    "    all_attention_weights = []\n",
    "    \n",
    "    with torch.no_grad():\n",
    "        for features, _ in tqdm(dataloader, desc=\"Analyzing features\"):\n",
    "            features = features.to(device)\n",
    "            \n",
    "            # Forward pass through CNN layers\n",
    "            x = model.relu(model.bn1(model.conv1(features)))\n",
    "            x = model.pool(x)\n",
    "            x = model.relu(model.bn2(model.conv2(x)))\n",
    "            x = model.pool(x)\n",
    "            x = model.dropout1(x)\n",
    "            \n",
    "            # Reshape for LSTM\n",
    "            x = x.permute(0, 2, 1)\n",
    "            \n",
    "            # LSTM layer\n",
    "            x, _ = model.lstm(x)\n",
    "            \n",
    "            # Attention mechanism\n",
    "            attn_weights = model.attention(x)\n",
    "            attn_weights = torch.softmax(attn_weights, dim=1)\n",
    "            \n",
    "            all_attention_weights.extend(attn_weights.cpu().numpy())\n",
    "    \n",
    "    return np.mean(np.array(all_attention_weights), axis=0)"
   ]
  },
  {
   "cell_type": "code",
   "execution_count": 51,
   "metadata": {
    "execution": {
     "iopub.execute_input": "2025-04-04T20:22:27.247609Z",
     "iopub.status.busy": "2025-04-04T20:22:27.247238Z",
     "iopub.status.idle": "2025-04-04T20:22:44.259880Z",
     "shell.execute_reply": "2025-04-04T20:22:44.258833Z",
     "shell.execute_reply.started": "2025-04-04T20:22:27.247576Z"
    },
    "trusted": true
   },
   "outputs": [
    {
     "name": "stderr",
     "output_type": "stream",
     "text": [
      "Analyzing features:   0%|          | 0/6 [00:00<?, ?it/s]Exception ignored in: Exception ignored in: Exception ignored in: Exception ignored in: <function _MultiProcessingDataLoaderIter.__del__ at 0x7af1a8baa710><function _MultiProcessingDataLoaderIter.__del__ at 0x7af1a8baa710><function _MultiProcessingDataLoaderIter.__del__ at 0x7af1a8baa710><function _MultiProcessingDataLoaderIter.__del__ at 0x7af1a8baa710>\n",
      "\n",
      "\n",
      "Traceback (most recent call last):\n",
      "Traceback (most recent call last):\n",
      "Traceback (most recent call last):\n",
      "\n",
      "  File \"/usr/local/lib/python3.10/dist-packages/torch/utils/data/dataloader.py\", line 1604, in __del__\n",
      "Traceback (most recent call last):\n",
      "  File \"/usr/local/lib/python3.10/dist-packages/torch/utils/data/dataloader.py\", line 1604, in __del__\n",
      "  File \"/usr/local/lib/python3.10/dist-packages/torch/utils/data/dataloader.py\", line 1604, in __del__\n",
      "      File \"/usr/local/lib/python3.10/dist-packages/torch/utils/data/dataloader.py\", line 1604, in __del__\n",
      "        self._shutdown_workers()    \n",
      "self._shutdown_workers()self._shutdown_workers()self._shutdown_workers()\n",
      "\n",
      "  File \"/usr/local/lib/python3.10/dist-packages/torch/utils/data/dataloader.py\", line 1587, in _shutdown_workers\n",
      "\n",
      "  File \"/usr/local/lib/python3.10/dist-packages/torch/utils/data/dataloader.py\", line 1587, in _shutdown_workers\n",
      "  File \"/usr/local/lib/python3.10/dist-packages/torch/utils/data/dataloader.py\", line 1587, in _shutdown_workers\n",
      "      File \"/usr/local/lib/python3.10/dist-packages/torch/utils/data/dataloader.py\", line 1587, in _shutdown_workers\n",
      "        if w.is_alive():if w.is_alive():if w.is_alive():    \n",
      "\n",
      "  File \"/usr/lib/python3.10/multiprocessing/process.py\", line 160, in is_alive\n",
      "if w.is_alive():  File \"/usr/lib/python3.10/multiprocessing/process.py\", line 160, in is_alive\n",
      "\n",
      "    \n",
      "      File \"/usr/lib/python3.10/multiprocessing/process.py\", line 160, in is_alive\n",
      "assert self._parent_pid == os.getpid(), 'can only test a child process'  File \"/usr/lib/python3.10/multiprocessing/process.py\", line 160, in is_alive\n",
      "assert self._parent_pid == os.getpid(), 'can only test a child process'    \n",
      "\n",
      "assert self._parent_pid == os.getpid(), 'can only test a child process'    AssertionError\n",
      "AssertionErrorassert self._parent_pid == os.getpid(), 'can only test a child process': AssertionError: \n",
      ": can only test a child processAssertionErrorcan only test a child process\n",
      "can only test a child process\n",
      ": \n",
      "can only test a child process\n",
      "Exception ignored in: Exception ignored in: Exception ignored in: <function _MultiProcessingDataLoaderIter.__del__ at 0x7af1a8baa710><function _MultiProcessingDataLoaderIter.__del__ at 0x7af1a8baa710>\n",
      "<function _MultiProcessingDataLoaderIter.__del__ at 0x7af1a8baa710>\n",
      "Exception ignored in: \n",
      "Traceback (most recent call last):\n",
      "Traceback (most recent call last):\n",
      "<function _MultiProcessingDataLoaderIter.__del__ at 0x7af1a8baa710>  File \"/usr/local/lib/python3.10/dist-packages/torch/utils/data/dataloader.py\", line 1604, in __del__\n",
      "\n",
      "  File \"/usr/local/lib/python3.10/dist-packages/torch/utils/data/dataloader.py\", line 1604, in __del__\n",
      "Traceback (most recent call last):\n",
      "  File \"/usr/local/lib/python3.10/dist-packages/torch/utils/data/dataloader.py\", line 1604, in __del__\n",
      "    Traceback (most recent call last):\n",
      "          File \"/usr/local/lib/python3.10/dist-packages/torch/utils/data/dataloader.py\", line 1604, in __del__\n",
      "self._shutdown_workers()self._shutdown_workers()    self._shutdown_workers()\n",
      "\n",
      "self._shutdown_workers()\n",
      "  File \"/usr/local/lib/python3.10/dist-packages/torch/utils/data/dataloader.py\", line 1587, in _shutdown_workers\n",
      "  File \"/usr/local/lib/python3.10/dist-packages/torch/utils/data/dataloader.py\", line 1587, in _shutdown_workers\n",
      "\n",
      "  File \"/usr/local/lib/python3.10/dist-packages/torch/utils/data/dataloader.py\", line 1587, in _shutdown_workers\n",
      "          File \"/usr/local/lib/python3.10/dist-packages/torch/utils/data/dataloader.py\", line 1587, in _shutdown_workers\n",
      "    if w.is_alive():if w.is_alive():    if w.is_alive():\n",
      "\n",
      "if w.is_alive():\n",
      "  File \"/usr/lib/python3.10/multiprocessing/process.py\", line 160, in is_alive\n",
      "  File \"/usr/lib/python3.10/multiprocessing/process.py\", line 160, in is_alive\n",
      "\n",
      "  File \"/usr/lib/python3.10/multiprocessing/process.py\", line 160, in is_alive\n",
      "          File \"/usr/lib/python3.10/multiprocessing/process.py\", line 160, in is_alive\n",
      "assert self._parent_pid == os.getpid(), 'can only test a child process'assert self._parent_pid == os.getpid(), 'can only test a child process'        assert self._parent_pid == os.getpid(), 'can only test a child process'\n",
      "\n",
      "assert self._parent_pid == os.getpid(), 'can only test a child process'\n",
      "AssertionErrorAssertionError\n",
      "AssertionError: AssertionError: : can only test a child process: can only test a child process\n",
      "can only test a child processcan only test a child process\n",
      "\n",
      "\n",
      "Analyzing features: 100%|██████████| 6/6 [00:16<00:00,  2.77s/it]\n"
     ]
    },
    {
     "data": {
      "image/png": "[encoded data removed]",
      "text/plain": [
       "<Figure size 1200x600 with 1 Axes>"
      ]
     },
     "metadata": {},
     "output_type": "display_data"
    }
   ],
   "source": [
    "attention_weights = analyze_feature_importance(trained_model, val_loader, device)\n",
    "# Plot feature importance\n",
    "plt.figure(figsize=(12, 6))\n",
    "plt.plot(attention_weights)\n",
    "plt.title('Feature Importance Based on Attention Weights')\n",
    "plt.xlabel('Time Steps')\n",
    "plt.ylabel('Attention Weight')\n",
    "plt.tight_layout()\n",
    "plt.savefig('feature_importance.png')\n",
    "plt.show()"
   ]
  },
  {
   "cell_type": "code",
   "execution_count": null,
   "metadata": {
    "trusted": true
   },
   "outputs": [],
   "source": []
  }
 ],
 "metadata": {
  "kaggle": {
   "accelerator": "nvidiaTeslaT4",
   "dataSources": [
    {
     "databundleVersionId": 11694977,
     "sourceId": 97919,
     "sourceType": "competition"
    }
   ],
   "dockerImageVersionId": 30919,
   "isGpuEnabled": true,
   "isInternetEnabled": true,
   "language": "python",
   "sourceType": "notebook"
  },
  "kernelspec": {
   "display_name": "Python 3",
   "language": "python",
   "name": "python3"
  },
  "language_info": {
   "codemirror_mode": {
    "name": "ipython",
    "version": 3
   },
   "file_extension": ".py",
   "mimetype": "text/x-python",
   "name": "python",
   "nbconvert_exporter": "python",
   "pygments_lexer": "ipython3",
   "version": "3.10.12"
  }
 },
 "nbformat": 4,
 "nbformat_minor": 4
}
